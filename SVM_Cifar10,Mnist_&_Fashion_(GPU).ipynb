{
  "nbformat": 4,
  "nbformat_minor": 0,
  "metadata": {
    "colab": {
      "name": "SVM - Cifar10,Mnist & Fashion (GPU).ipynb",
      "provenance": [],
      "collapsed_sections": [],
      "machine_shape": "hm"
    },
    "kernelspec": {
      "name": "python3",
      "display_name": "Python 3"
    },
    "language_info": {
      "name": "python"
    },
    "accelerator": "GPU"
  },
  "cells": [
    {
      "cell_type": "markdown",
      "source": [
        "# Importing the requried libraries"
      ],
      "metadata": {
        "id": "9jXbPlTOnoZN"
      }
    },
    {
      "cell_type": "code",
      "source": [
        "from tensorflow.keras.datasets import cifar10\n",
        "import matplotlib.pyplot as plt\n",
        "import os\n",
        "import time\n",
        "import numpy as np\n",
        "import pandas as pd\n",
        "import tensorflow as tf\n",
        "from sklearn import svm\n",
        "from sklearn import neighbors\n",
        "from numpy import random\n",
        "import warnings\n",
        "warnings.filterwarnings(\"ignore\")"
      ],
      "metadata": {
        "id": "XIcc8Q01nrEG"
      },
      "execution_count": null,
      "outputs": []
    },
    {
      "cell_type": "markdown",
      "source": [
        "# SVM Cifar 10"
      ],
      "metadata": {
        "id": "X5AzRB0skbTt"
      }
    },
    {
      "cell_type": "code",
      "execution_count": null,
      "metadata": {
        "colab": {
          "base_uri": "https://localhost:8080/"
        },
        "id": "D0GUIffFkY_K",
        "outputId": "b0b44434-fc7c-4a71-acf1-810e7ce44f05"
      },
      "outputs": [
        {
          "output_type": "stream",
          "name": "stdout",
          "text": [
            "Train image shape:    (49000, 32, 32, 3)\n",
            "Train label shape:    (49000,)\n",
            "Test image shape:     (10000, 32, 32, 3)\n",
            "Test label shape:     (10000,)\n",
            "\n",
            "Loop 0 ; Loss 155535.5139038931\n",
            "Loop 250 ; Loss 1022.6662462631962\n",
            "Loop 500 ; Loss 11.886042221921999\n",
            "Loop 750 ; Loss 5.703022373802461\n",
            "Loop 1000 ; Loss 6.186302518223705\n",
            "Loop 1250 ; Loss 5.50030716347562\n"
          ]
        }
      ],
      "source": [
        "classesName = ['plane', 'car', 'bird', 'cat','deer', 'dog', 'frog', 'horse', 'ship', 'truck']\n",
        "\n",
        "(xTrain, yTrain), (xTest, yTest) = cifar10.load_data()\n",
        "xVal = xTrain[49000:, :].astype(float)\n",
        "yVal = np.squeeze(yTrain[49000:, :])\n",
        "xTrain = xTrain[:49000, :].astype(float)\n",
        "yTrain = np.squeeze(yTrain[:49000, :])\n",
        "yTest = np.squeeze(yTest)\n",
        "xTest = xTest.astype(float)\n",
        "\n",
        "# Show dimension for each variable\n",
        "print('Train image shape:    {0}'.format(xTrain.shape))\n",
        "print('Train label shape:    {0}'.format(yTrain.shape))\n",
        "print('Test image shape:     {0}'.format(xTest.shape))\n",
        "print('Test label shape:     {0}\\n'.format(yTest.shape))\n",
        "\n",
        "# Pre processing data\n",
        "# Normalize the data by subtract the mean image\n",
        "meanImage = np.mean(xTrain, axis=0)\n",
        "xTrain -= meanImage\n",
        "xVal -= meanImage\n",
        "xTest -= meanImage\n",
        "\n",
        "# Reshape data from channel to rows\n",
        "xTrain = np.reshape(xTrain, (xTrain.shape[0], -1))\n",
        "xVal = np.reshape(xVal, (xVal.shape[0], -1))\n",
        "xTest = np.reshape(xTest, (xTest.shape[0], -1))\n",
        "\n",
        "# Add bias dimension columns\n",
        "xTrain = np.hstack([xTrain, np.ones((xTrain.shape[0], 1))])\n",
        "xVal = np.hstack([xVal, np.ones((xVal.shape[0], 1))])\n",
        "xTest = np.hstack([xTest, np.ones((xTest.shape[0], 1))])\n",
        "\n",
        "class Svm (object):\n",
        "    \"\"\"\" Svm classifier \"\"\"\n",
        "\n",
        "    def __init__(self, inputDim, outputDim):\n",
        "        self.W = None\n",
        "        sigma = 0.01\n",
        "        self.W = sigma * np.random.randn(inputDim, outputDim)\n",
        "\n",
        "    def calLoss(self, x, y, reg):\n",
        "\n",
        "        loss = 0.0\n",
        "        dW = np.zeros_like(self.W)\n",
        "\n",
        "        s = x.dot(self.W)\n",
        "        # Score with yi\n",
        "        s_yi = s[np.arange(x.shape[0]), y]\n",
        "        # finding the delta\n",
        "        delta = s - s_yi[:, np.newaxis]+1\n",
        "        # loss for samples\n",
        "        loss_i = np.maximum(0, delta)\n",
        "        loss_i[np.arange(x.shape[0]), y] = 0\n",
        "        loss = np.sum(loss_i)/x.shape[0]\n",
        "        # Loss with regularization\n",
        "        loss += reg*np.sum(self.W*self.W)\n",
        "        # Calculating ds\n",
        "        ds = np.zeros_like(delta)\n",
        "        ds[delta > 0] = 1\n",
        "        ds[np.arange(x.shape[0]), y] = 0\n",
        "        ds[np.arange(x.shape[0]), y] = -np.sum(ds, axis=1)\n",
        "\n",
        "        dW = (1/x.shape[0]) * (x.T).dot(ds)\n",
        "        dW = dW + (2 * reg * self.W)\n",
        "        return loss, dW\n",
        "\n",
        "    def train(self, x, y, lr=1e-4, reg=1e-5, iter=100, batchSize=200, verbose=False):\n",
        "        # Run stochastic gradient descent to optimize W.\n",
        "        lossHistory = []\n",
        "        for i in range(iter):\n",
        "            xBatch = None\n",
        "            yBatch = None\n",
        "\n",
        "            num_train = np.random.choice(x.shape[0], batchSize)\n",
        "            xBatch = x[num_train]\n",
        "            yBatch = y[num_train]\n",
        "            loss, dW = self.calLoss(xBatch, yBatch, reg)\n",
        "            self.W = self.W - lr * dW\n",
        "            lossHistory.append(loss)\n",
        "\n",
        "            if verbose and i % 250 == 0 and len(lossHistory) is not 0:\n",
        "                print('Loop {0} ; Loss {1}'.format(i, lossHistory[i]))\n",
        "\n",
        "        pass\n",
        "\n",
        "    def predict(self, x,):\n",
        "        yPred = np.zeros(x.shape[0])\n",
        "        s = x.dot(self.W)\n",
        "        yPred = np.argmax(s, axis=1)\n",
        "        return yPred\n",
        "\n",
        "    def calAccuracy(self, x, y):\n",
        "        acc = 0\n",
        "        yPred = self.predict(x)\n",
        "        acc = np.mean(y == yPred)*100\n",
        "        return acc\n",
        "\n",
        "numClasses = np.max(yTrain) + 1\n",
        "\n",
        "classifier = Svm(xTrain.shape[1], numClasses)\n",
        "\n",
        "# Training classifier\n",
        "startTime = time.time()\n",
        "classifier.train(xTrain, yTrain, lr=1e-7, reg=5e4, iter=1500, verbose=1)"
      ]
    },
    {
      "cell_type": "code",
      "source": [
        "print('Training accuracy:   {0} %'.format(classifier.calAccuracy(xTrain, yTrain)))\n",
        "print('Validating accuracy: {0} %'.format(classifier.calAccuracy(xVal, yVal)))\n",
        "print('Testing accuracy:    {0} %'.format(classifier.calAccuracy(xTest, yTest)))\n",
        "\n",
        "print('Program Execution Time(GPU): {0} seconds'.format(time.time() - startTime))"
      ],
      "metadata": {
        "colab": {
          "base_uri": "https://localhost:8080/"
        },
        "id": "oKyIChHYVnSZ",
        "outputId": "9f3ac6f3-bdf9-45f7-d8cf-da41565e0dc4"
      },
      "execution_count": null,
      "outputs": [
        {
          "output_type": "stream",
          "name": "stdout",
          "text": [
            "Training accuracy:   35.68775510204082 %\n",
            "Validating accuracy: 36.199999999999996 %\n",
            "Testing accuracy:    35.099999999999994 %\n",
            "Program Execution Time(GPU): 6.611586570739746 seconds\n"
          ]
        }
      ]
    },
    {
      "cell_type": "markdown",
      "source": [
        "# SVM Fashion"
      ],
      "metadata": {
        "id": "AqW1ASH7koQk"
      }
    },
    {
      "cell_type": "code",
      "source": [
        "(x_train, y_train), (x_test, y_test) = tf.keras.datasets.fashion_mnist.load_data()\n",
        "\n",
        "x_train, x_test = x_train / 255.0, x_test / 255.0\n",
        "\n",
        "def svm_model():\n",
        "    model = svm.SVC(C=1, kernel='rbf', gamma=0.02)\n",
        "    return model\n",
        "\n",
        "train_size_svm = 20000\n",
        "test_size_svm = 1000\n",
        "\n",
        "x_train_svm = x_train[:train_size_svm].reshape(train_size_svm, 28*28)\n",
        "y_train_svm = y_train[:train_size_svm]\n",
        "x_test_svm = x_test[:test_size_svm].reshape(test_size_svm, 28*28)\n",
        "y_test_svm = y_test[:test_size_svm]\n",
        "\n",
        "startTime = time.time()\n",
        "svm_model = svm_model()\n",
        "svm_model.fit(x_train_svm, y_train_svm)"
      ],
      "metadata": {
        "colab": {
          "base_uri": "https://localhost:8080/"
        },
        "id": "T0GmnzWdkqSk",
        "outputId": "04784c08-8f8b-40d7-85c6-8f12700537d2"
      },
      "execution_count": null,
      "outputs": [
        {
          "output_type": "execute_result",
          "data": {
            "text/plain": [
              "SVC(C=1, gamma=0.02)"
            ]
          },
          "metadata": {},
          "execution_count": 4
        }
      ]
    },
    {
      "cell_type": "code",
      "source": [
        "print('Training Accuracy: ' ,(svm_model.score(x_train_svm, y_train_svm))*100, '%')\n",
        "print('Test Accuracy: ' ,(svm_model.score(x_test_svm, y_test_svm))*100, '%')\n",
        "\n",
        "print('Program Execution Time(GPU): {0} seconds'.format(time.time() - startTime))"
      ],
      "metadata": {
        "colab": {
          "base_uri": "https://localhost:8080/"
        },
        "id": "-y94zZD2VknP",
        "outputId": "f040f2e3-1d49-49a9-ff13-a5595811622b"
      },
      "execution_count": null,
      "outputs": [
        {
          "output_type": "stream",
          "name": "stdout",
          "text": [
            "Training Accuracy:  93.24 %\n",
            "Test Accuracy:  87.7 %\n",
            "Program Execution Time(GPU): 149.04493975639343 seconds\n"
          ]
        }
      ]
    },
    {
      "cell_type": "markdown",
      "source": [
        "# SVM Mnist"
      ],
      "metadata": {
        "id": "ti2UPOMWkxKS"
      }
    },
    {
      "cell_type": "code",
      "source": [
        "(x_train, y_train), (x_test, y_test) = tf.keras.datasets.mnist.load_data()\n",
        "\n",
        "x_train, x_test = x_train / 255.0, x_test / 255.0\n",
        "\n",
        "def svm_model():\n",
        "    model = svm.SVC(C=1, kernel='rbf', gamma=0.02)\n",
        "    return model\n",
        "\n",
        "train_size_svm = 20000\n",
        "test_size_svm = 1000\n",
        "\n",
        "startTime = time.time()\n",
        "x_train_svm = x_train[:train_size_svm].reshape(train_size_svm, 28*28)\n",
        "y_train_svm = y_train[:train_size_svm]\n",
        "x_test_svm = x_test[:test_size_svm].reshape(test_size_svm, 28*28) \n",
        "y_test_svm = y_test[:test_size_svm]\n",
        "\n",
        "svm_model = svm_model()\n",
        "svm_model.fit(x_train_svm, y_train_svm)"
      ],
      "metadata": {
        "colab": {
          "base_uri": "https://localhost:8080/"
        },
        "id": "SWBnMtdRk2a_",
        "outputId": "ba62dadc-b6df-4d15-8020-ffdc0c6eda07"
      },
      "execution_count": null,
      "outputs": [
        {
          "output_type": "execute_result",
          "data": {
            "text/plain": [
              "SVC(C=1, gamma=0.02)"
            ]
          },
          "metadata": {},
          "execution_count": 6
        }
      ]
    },
    {
      "cell_type": "code",
      "source": [
        "print('Training Accuracy: ',(svm_model.score(x_train_svm, y_train_svm))*100 , '%')    \n",
        "print('Test Accuracy: ',(svm_model.score(x_test_svm, y_test_svm))*100, '%')\n",
        "\n",
        "print('Program Execution Time(GPU): {0} seconds'.format(time.time() - startTime))"
      ],
      "metadata": {
        "colab": {
          "base_uri": "https://localhost:8080/"
        },
        "id": "oM6ZsdwHVhX9",
        "outputId": "a8837f9b-e2f7-439e-d8a5-e15c2bce6288"
      },
      "execution_count": null,
      "outputs": [
        {
          "output_type": "stream",
          "name": "stdout",
          "text": [
            "Training Accuracy:  99.35000000000001 %\n",
            "Test Accuracy:  96.89999999999999 %\n",
            "Program Execution Time(GPU): 105.87819480895996 seconds\n"
          ]
        }
      ]
    }
  ]
}